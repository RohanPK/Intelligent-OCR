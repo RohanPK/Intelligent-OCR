{
  "nbformat": 4,
  "nbformat_minor": 0,
  "metadata": {
    "colab": {
      "name": "HandWriting 1 - PreProcess.ipynb",
      "version": "0.3.2",
      "provenance": [],
      "collapsed_sections": []
    },
    "kernelspec": {
      "name": "python3",
      "display_name": "Python 3"
    },
    "accelerator": "GPU"
  },
  "cells": [
    {
      "cell_type": "code",
      "metadata": {
        "id": "OkbeOzXxYd8E",
        "colab_type": "code",
        "colab": {}
      },
      "source": [
        "import os\n",
        "import xml.etree.ElementTree as ET\n",
        "from PIL import Image\n",
        "from numpy import array\n",
        "import numpy as np\n",
        "import pandas as pd\n",
        "import cv2\n",
        "from google.colab.patches import cv2_imshow\n",
        "import pickle"
      ],
      "execution_count": 0,
      "outputs": []
    },
    {
      "cell_type": "code",
      "metadata": {
        "id": "VhJUiIvfHVx1",
        "colab_type": "code",
        "outputId": "86fae1ef-b0e8-4695-b6dc-4e741e5c8a24",
        "colab": {
          "base_uri": "https://localhost:8080/",
          "height": 34
        }
      },
      "source": [
        "from google.colab import drive\n",
        "drive.mount('/content/drive')"
      ],
      "execution_count": 4,
      "outputs": [
        {
          "output_type": "stream",
          "text": [
            "Drive already mounted at /content/drive; to attempt to forcibly remount, call drive.mount(\"/content/drive\", force_remount=True).\n"
          ],
          "name": "stdout"
        }
      ]
    },
    {
      "cell_type": "code",
      "metadata": {
        "id": "phT-LswoHpzM",
        "colab_type": "code",
        "outputId": "1a605dbc-f67b-4b89-99af-80133ffc1245",
        "colab": {
          "base_uri": "https://localhost:8080/",
          "height": 34
        }
      },
      "source": [
        "%cd /content/drive/My Drive/hand_writing"
      ],
      "execution_count": 5,
      "outputs": [
        {
          "output_type": "stream",
          "text": [
            "/content/drive/My Drive/hand_writing\n"
          ],
          "name": "stdout"
        }
      ]
    },
    {
      "cell_type": "code",
      "metadata": {
        "id": "xlE08bUYRhVM",
        "colab_type": "code",
        "colab": {}
      },
      "source": [
        "!rm -rf images/\n",
        "!mkdir images"
      ],
      "execution_count": 0,
      "outputs": []
    },
    {
      "cell_type": "code",
      "metadata": {
        "id": "zUtXpqgCSXz0",
        "colab_type": "code",
        "outputId": "2d754242-9af4-4db6-8e45-c3247af08754",
        "colab": {
          "base_uri": "https://localhost:8080/",
          "height": 34
        }
      },
      "source": [
        "!ls"
      ],
      "execution_count": 0,
      "outputs": [
        {
          "output_type": "stream",
          "text": [
            "images\tlines.tgz  sentences.tgz  xml  xml.tgz\n"
          ],
          "name": "stdout"
        }
      ]
    },
    {
      "cell_type": "code",
      "metadata": {
        "colab_type": "code",
        "id": "izvJnwXNRM8J",
        "colab": {}
      },
      "source": [
        "!tar xzf lines.tgz -C images/"
      ],
      "execution_count": 0,
      "outputs": []
    },
    {
      "cell_type": "code",
      "metadata": {
        "id": "pXfLCggbN0Kf",
        "colab_type": "code",
        "colab": {}
      },
      "source": [
        "%cd ../"
      ],
      "execution_count": 0,
      "outputs": []
    },
    {
      "cell_type": "code",
      "metadata": {
        "id": "GqaUkboeN1Jj",
        "colab_type": "code",
        "outputId": "c13616b7-cea7-489b-9b05-fa47d5377309",
        "colab": {
          "base_uri": "https://localhost:8080/",
          "height": 34
        }
      },
      "source": [
        ""
      ],
      "execution_count": 0,
      "outputs": [
        {
          "output_type": "stream",
          "text": [
            "/content/drive/My Drive/hand_writing/xml\n"
          ],
          "name": "stdout"
        }
      ]
    },
    {
      "cell_type": "code",
      "metadata": {
        "id": "3aye3VC5Pjxj",
        "colab_type": "code",
        "colab": {}
      },
      "source": [
        "def load_files():\n",
        "  count = 0\n",
        "  xml_files = os.listdir(\"xml/\")\n",
        "  file_names = []\n",
        "  text = []\n",
        "  for file_name in xml_files:\n",
        "    try:\n",
        "      count +=1\n",
        "      tree = ET.parse(\"xml/\"+file_name)\n",
        "      root = tree.getroot()\n",
        "      root = root[1]\n",
        "      for hand_writing in root:\n",
        "        if hand_writing.get(\"segmentation\") ==\"ok\":\n",
        "          file_names.append(hand_writing.get(\"id\"))\n",
        "          text.append(hand_writing.get(\"text\"))\n",
        "    except:\n",
        "      continue\n",
        "  print(len(file_names))\n",
        "  return file_names,text"
      ],
      "execution_count": 0,
      "outputs": []
    },
    {
      "cell_type": "code",
      "metadata": {
        "id": "DOTyiCaMXJrk",
        "colab_type": "code",
        "outputId": "4001bdb4-5137-4db1-9a53-e8e97140ea7a",
        "colab": {
          "base_uri": "https://localhost:8080/",
          "height": 34
        }
      },
      "source": [
        "files,text = load_files()"
      ],
      "execution_count": 7,
      "outputs": [
        {
          "output_type": "stream",
          "text": [
            "11344\n"
          ],
          "name": "stdout"
        }
      ]
    },
    {
      "cell_type": "code",
      "metadata": {
        "id": "SqCbMyRwPi6O",
        "colab_type": "code",
        "colab": {}
      },
      "source": [
        "input_file = open(\"name_file.csv\",\"w+\")\n",
        "for index,file in enumerate(files):\n",
        "  files[index] = \"images/\" + files[index].split(\"-\")[0]+\"/\"+ files[index].split(\"-\")[0]+\"-\"+files[index].split(\"-\")[1]+\"/\"+files[index]+\".png\"\n",
        "  #input_file.write(path+\",\"+text[index]+\"\\n\")\n",
        "  "
      ],
      "execution_count": 0,
      "outputs": []
    },
    {
      "cell_type": "code",
      "metadata": {
        "id": "iP2MPYO4W5o-",
        "colab_type": "code",
        "outputId": "f5baf9e1-fd82-4356-b79d-9b84827231c2",
        "colab": {
          "base_uri": "https://localhost:8080/",
          "height": 134
        }
      },
      "source": [
        ""
      ],
      "execution_count": 0,
      "outputs": [
        {
          "output_type": "execute_result",
          "data": {
            "image/png": "[encoded data removed]",
            "text/plain": [
              "<PIL.PngImagePlugin.PngImageFile image mode=L size=1572x97 at 0x7FE3225529E8>"
            ]
          },
          "metadata": {
            "tags": []
          },
          "execution_count": 60
        }
      ]
    },
    {
      "cell_type": "code",
      "metadata": {
        "id": "03r5s5ljXckO",
        "colab_type": "code",
        "colab": {}
      },
      "source": [
        "df = {'Name':files,'Text':text}"
      ],
      "execution_count": 0,
      "outputs": []
    },
    {
      "cell_type": "code",
      "metadata": {
        "id": "Q6aPuftrb2X7",
        "colab_type": "code",
        "colab": {}
      },
      "source": [
        "df = pd.DataFrame(df)"
      ],
      "execution_count": 0,
      "outputs": []
    },
    {
      "cell_type": "code",
      "metadata": {
        "id": "n9Gys47veb4I",
        "colab_type": "code",
        "colab": {}
      },
      "source": [
        "df.to_csv('input.csv')"
      ],
      "execution_count": 0,
      "outputs": []
    },
    {
      "cell_type": "code",
      "metadata": {
        "id": "lSjPZPDLe6Su",
        "colab_type": "code",
        "colab": {}
      },
      "source": [
        "from google.colab import files\n",
        "files.download('input.csv') "
      ],
      "execution_count": 0,
      "outputs": []
    },
    {
      "cell_type": "code",
      "metadata": {
        "id": "rPxFwlTJhDt8",
        "colab_type": "code",
        "colab": {}
      },
      "source": [
        "def load_data(df):\n",
        "  images = []\n",
        "  for i in range(df.shape[0]):\n",
        "    images.append(array(Image.open(df[\"Name\"][i])))\n",
        "  return images"
      ],
      "execution_count": 0,
      "outputs": []
    },
    {
      "cell_type": "code",
      "metadata": {
        "id": "Ic6uuLCfhloV",
        "colab_type": "code",
        "colab": {}
      },
      "source": [
        "images = load_data(df)"
      ],
      "execution_count": 0,
      "outputs": []
    },
    {
      "cell_type": "code",
      "metadata": {
        "id": "FcGDhCj7j28r",
        "colab_type": "code",
        "colab": {}
      },
      "source": [
        "def preprocess(image):\n",
        "  #image = cv2.GaussianBlur(image,(5,5),0)\n",
        "  ret,thresh = cv2.threshold(image,0,255,cv2.THRESH_BINARY+cv2.THRESH_OTSU)\n",
        "  thresh = cv2.resize(thresh,(1700,128))\n",
        "  return thresh"
      ],
      "execution_count": 0,
      "outputs": []
    },
    {
      "cell_type": "code",
      "metadata": {
        "id": "yGlfenVVsDwK",
        "colab_type": "code",
        "colab": {}
      },
      "source": [
        "preprocessed_images = []\n",
        "for image in images:\n",
        "  preprocessed_images.append(preprocess(image))"
      ],
      "execution_count": 0,
      "outputs": []
    },
    {
      "cell_type": "code",
      "metadata": {
        "id": "xfk4dF9Qtkc4",
        "colab_type": "code",
        "colab": {}
      },
      "source": [
        "with open('processed/images.pickle', 'wb') as handle:\n",
        "    pickle.dump(preprocessed_images, handle)"
      ],
      "execution_count": 0,
      "outputs": []
    },
    {
      "cell_type": "code",
      "metadata": {
        "id": "Q-IRBu3wx2Pj",
        "colab_type": "code",
        "colab": {}
      },
      "source": [
        ""
      ],
      "execution_count": 0,
      "outputs": []
    }
  ]
}